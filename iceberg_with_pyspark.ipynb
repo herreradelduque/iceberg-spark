{
 "cells": [
  {
   "cell_type": "code",
   "execution_count": 1,
   "id": "e2b6b513-73b6-4415-b6d9-704561775908",
   "metadata": {},
   "outputs": [],
   "source": [
    "import pyspark\n",
    "from pyspark.sql import SparkSession\n",
    "from pyspark.sql import Row"
   ]
  },
  {
   "cell_type": "code",
   "execution_count": 2,
   "id": "b457e2b5-a2e0-4235-870f-02e3f7b051c1",
   "metadata": {},
   "outputs": [],
   "source": [
    "#conda update pyspark"
   ]
  },
  {
   "cell_type": "code",
   "execution_count": 3,
   "id": "fc77a985-2b94-4b4a-af9e-e912038217da",
   "metadata": {},
   "outputs": [],
   "source": [
    "#!pyspark --version"
   ]
  },
  {
   "cell_type": "code",
   "execution_count": 4,
   "id": "5b9ea5eb-ecdb-42aa-8259-d930cbb66b5b",
   "metadata": {},
   "outputs": [],
   "source": [
    "#spark.stop()"
   ]
  },
  {
   "cell_type": "code",
   "execution_count": null,
   "id": "bf6f7ba9-3778-4f65-84e5-b914b3612382",
   "metadata": {},
   "outputs": [],
   "source": [
    "catalog_nm = \"iceberg_catalog\"\n",
    "warehouse_path = \"warehouse_loc\"\n",
    "\n",
    "conf = (\n",
    "    pyspark.SparkConf()\n",
    "    .setAppName(\"iceberg_with_filesystem\")\n",
    "    #pachages\n",
    "    .set(\"spark.jars.packages\", \"org.apache.iceberg:iceberg-spark-runtime-3.4_2.12:1.5.2\")  # Corrected coordinate\n",
    "    #SQL Extensions\n",
    "    .set('spark.sql.extensions', 'org.apache.iceberg.spark.extensions:IcebergSparkSessionExtensions')\n",
    "    #Configuring catalog\n",
    "    .set(f'spark.sql.catalog.{catalog_nm}','org.apache.iceberg.spark.SparkCatalog')\n",
    "    .set(f'spark.sql.catalog.{catalog_nm}.type', 'hadoop')\n",
    "    .set(f'spark.sql.catalog.{catalog_nm}.warehouse', warehouse_path)\n",
    ")\n",
    "\n",
    "#Start SparkSession\n",
    "spark = SparkSession.builder.config(conf=conf).getOrCreate()\n",
    "print(\"Spark Running\")"
   ]
  },
  {
   "cell_type": "code",
   "execution_count": null,
   "id": "cb712d22-b539-40c8-9deb-11a954bf26a1",
   "metadata": {},
   "outputs": [],
   "source": [
    "#Run a query\n",
    "table_nm = \"my_table\"\n",
    "spark.sql(f\"\"\"\n",
    "            CREATE TABLE IF NOT EXISTS {catalog_nm}.{table_nm} (\n",
    "            name STRING,\n",
    "            surname STRING\n",
    "            ) \n",
    "            using iceberg;\n",
    "            \"\"\"\n",
    "         ).show()"
   ]
  },
  {
   "cell_type": "code",
   "execution_count": 7,
   "id": "1aab0a1a-689c-4139-bc8b-58d1029a674a",
   "metadata": {},
   "outputs": [],
   "source": [
    "#spark"
   ]
  },
  {
   "cell_type": "code",
   "execution_count": null,
   "id": "6a3c21ae-6653-40c3-8a31-67b0b3d840b4",
   "metadata": {},
   "outputs": [],
   "source": [
    "#insert into with sql\n",
    "spark.sql(\n",
    "    f\"\"\"\n",
    "    INSERT INTO {catalog_nm}.{table_nm} \n",
    "    VALUES ('VictoR', 'GalaN')\n",
    "    \"\"\"\n",
    ")"
   ]
  },
  {
   "cell_type": "code",
   "execution_count": null,
   "id": "94e454ca-45f3-4d26-abc4-ebc242d11c50",
   "metadata": {
    "scrolled": true
   },
   "outputs": [],
   "source": [
    "#Insert into with dataframe api\n",
    "df = spark.createDataFrame([Row(name=\"Sr. victor\",surname=\"galan\")])\n",
    "df.writeTo(f\"{catalog_nm}.{table_nm}\").append()"
   ]
  },
  {
   "cell_type": "code",
   "execution_count": 10,
   "id": "1efd678a-8a8b-43f7-b74b-1db5ddfbca27",
   "metadata": {},
   "outputs": [],
   "source": [
    "#!python --version"
   ]
  },
  {
   "cell_type": "code",
   "execution_count": null,
   "id": "782277bc-1a70-46fe-bfe6-23fe64c1c31b",
   "metadata": {},
   "outputs": [],
   "source": [
    "#Query the table\n",
    "spark.sql(\n",
    "    f\"\"\"SELECT * \n",
    "    FROM {catalog_nm}.{table_nm};\n",
    "    \"\"\"\n",
    ").show()"
   ]
  },
  {
   "cell_type": "code",
   "execution_count": null,
   "id": "32be5ed8-417c-4c1b-941b-622a2ad6979d",
   "metadata": {},
   "outputs": [],
   "source": [
    "#Query the table\n",
    "spark.sql(\"SELECT * FROM iceberg.names;\").show()"
   ]
  },
  {
   "cell_type": "code",
   "execution_count": null,
   "id": "861c206e-e4e9-41a3-a5a0-be308fbb7531",
   "metadata": {},
   "outputs": [],
   "source": [
    "# Show catalogs\n",
    "spark.sql(\"SHOW CATALOGS\").show()\n",
    "\n",
    "# Use a specific catalog (if necessary)\n",
    "#spark.sql(\"USE CATALOG spark_catalog\")\n",
    "\n",
    "# Show databases\n",
    "spark.sql(\"SHOW DATABASES\").show()\n",
    "\n",
    "# Show tables in a specific database\n",
    "spark.sql(\"SHOW TABLES IN default\").show()\n",
    "\n"
   ]
  },
  {
   "cell_type": "code",
   "execution_count": null,
   "id": "71a872bb-8f3a-41fe-8c1c-3a0fcfb810e7",
   "metadata": {},
   "outputs": [],
   "source": [
    "# Show databases in the catalog\n",
    "spark.sql(f\"SHOW DATABASES IN {catalog_nm}\").show()\n"
   ]
  },
  {
   "cell_type": "code",
   "execution_count": null,
   "id": "3d5d1d75-13e5-4941-af75-b94e3a98726d",
   "metadata": {},
   "outputs": [],
   "source": [
    "# Create a new database in the catalog\n",
    "spark.sql(f\"CREATE DATABASE {catalog_nm}.my_database\")"
   ]
  },
  {
   "cell_type": "code",
   "execution_count": null,
   "id": "24719237-dd2e-431a-a1ae-db13ef2a1ef2",
   "metadata": {},
   "outputs": [],
   "source": [
    "# Create a new table in the database\n",
    "spark.sql(f\"\"\"\n",
    "    CREATE TABLE {catalog_nm}.my_database.my_table (\n",
    "        id BIGINT,\n",
    "        data STRING\n",
    "    )\n",
    "    USING iceberg\n",
    "\"\"\")\n"
   ]
  },
  {
   "cell_type": "code",
   "execution_count": null,
   "id": "3557e73d-d638-4910-952f-b76322a1ff3b",
   "metadata": {},
   "outputs": [],
   "source": [
    "# Show catalogs\n",
    "spark.sql(\"SHOW CATALOGS\").show()\n",
    "\n",
    "# Use a specific catalog (if necessary)\n",
    "#spark.sql(\"USE CATALOG spark_catalog\")\n",
    "\n",
    "# Show databases\n",
    "spark.sql(\"SHOW DATABASES\").show()\n",
    "\n",
    "# Show tables in a specific database\n",
    "spark.sql(f\"SHOW TABLES IN {catalog_nm}.my_database\").show()\n",
    "\n"
   ]
  },
  {
   "cell_type": "code",
   "execution_count": null,
   "id": "2291c283-39c7-4b79-8d56-318bb89b3cc0",
   "metadata": {},
   "outputs": [],
   "source": [
    "spark.sql(f\"\"\"select * \n",
    "        from {catalog_nm}.my_database.my_table\n",
    "        \"\"\").show()\n"
   ]
  },
  {
   "cell_type": "code",
   "execution_count": null,
   "id": "1d1e7bcd-8005-4ce5-a160-2442a781b7df",
   "metadata": {},
   "outputs": [],
   "source": [
    "spark.sql(f\"\"\"INSERT INTO {catalog_nm}.my_database.my_table\n",
    "        VALUES (1, 'hola')\n",
    "        \"\"\").show()"
   ]
  },
  {
   "cell_type": "code",
   "execution_count": null,
   "id": "05fb9844-a918-4345-a718-ec4344f1b8a9",
   "metadata": {},
   "outputs": [],
   "source": [
    "spark.sql(f\"\"\"select * \n",
    "        from {catalog_nm}.my_database.my_table\n",
    "        \"\"\").show()\n"
   ]
  },
  {
   "cell_type": "code",
   "execution_count": null,
   "id": "b9894831-7695-4c3b-8ad5-a5e6229cb250",
   "metadata": {},
   "outputs": [],
   "source": []
  }
 ],
 "metadata": {
  "kernelspec": {
   "display_name": "Python (iceberg_env)",
   "language": "python",
   "name": "iceberg_env"
  },
  "language_info": {
   "codemirror_mode": {
    "name": "ipython",
    "version": 3
   },
   "file_extension": ".py",
   "mimetype": "text/x-python",
   "name": "python",
   "nbconvert_exporter": "python",
   "pygments_lexer": "ipython3",
   "version": "3.10.0"
  },
  "varInspector": {
   "cols": {
    "lenName": 16,
    "lenType": 16,
    "lenVar": 40
   },
   "kernels_config": {
    "python": {
     "delete_cmd_postfix": "",
     "delete_cmd_prefix": "del ",
     "library": "var_list.py",
     "varRefreshCmd": "print(var_dic_list())"
    },
    "r": {
     "delete_cmd_postfix": ") ",
     "delete_cmd_prefix": "rm(",
     "library": "var_list.r",
     "varRefreshCmd": "cat(var_dic_list()) "
    }
   },
   "types_to_exclude": [
    "module",
    "function",
    "builtin_function_or_method",
    "instance",
    "_Feature"
   ],
   "window_display": false
  }
 },
 "nbformat": 4,
 "nbformat_minor": 5
}
